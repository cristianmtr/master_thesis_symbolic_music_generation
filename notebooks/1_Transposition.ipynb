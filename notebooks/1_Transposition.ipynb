{
 "cells": [
  {
   "cell_type": "code",
   "execution_count": 3,
   "metadata": {},
   "outputs": [
    {
     "name": "stderr",
     "output_type": "stream",
     "text": [
      "Exception:\n",
      "Traceback (most recent call last):\n",
      "  File \"C:\\Anaconda3\\envs\\magenta36_1\\lib\\site-packages\\pip\\_internal\\cli\\base_command.py\", line 176, in main\n",
      "    status = self.run(options, args)\n",
      "  File \"C:\\Anaconda3\\envs\\magenta36_1\\lib\\site-packages\\pip\\_internal\\commands\\install.py\", line 393, in run\n",
      "    use_user_site=options.use_user_site,\n",
      "  File \"C:\\Anaconda3\\envs\\magenta36_1\\lib\\site-packages\\pip\\_internal\\req\\__init__.py\", line 57, in install_given_reqs\n",
      "    **kwargs\n",
      "  File \"C:\\Anaconda3\\envs\\magenta36_1\\lib\\site-packages\\pip\\_internal\\req\\req_install.py\", line 919, in install\n",
      "    use_user_site=use_user_site, pycompile=pycompile,\n",
      "  File \"C:\\Anaconda3\\envs\\magenta36_1\\lib\\site-packages\\pip\\_internal\\req\\req_install.py\", line 445, in move_wheel_files\n",
      "    warn_script_location=warn_script_location,\n",
      "  File \"C:\\Anaconda3\\envs\\magenta36_1\\lib\\site-packages\\pip\\_internal\\wheel.py\", line 583, in move_wheel_files\n",
      "    outrows = get_csv_rows_for_installed(reader)\n",
      "  File \"C:\\Anaconda3\\envs\\magenta36_1\\lib\\site-packages\\pip\\_internal\\wheel.py\", line 565, in get_csv_rows_for_installed\n",
      "    for fpath, digest, length in old_csv_rows:\n",
      "ValueError: too many values to unpack (expected 3)\n"
     ]
    }
   ],
   "source": [
    "!pip install -U -q music21"
   ]
  },
  {
   "cell_type": "code",
   "execution_count": 1,
   "metadata": {},
   "outputs": [],
   "source": [
    "import music21"
   ]
  },
  {
   "cell_type": "code",
   "execution_count": 2,
   "metadata": {},
   "outputs": [],
   "source": [
    "majors = dict([(\"A-\", 4),(\"A\", 3),(\"B-\", 2),(\"B\", 1),(\"C\", 0),(\"D-\", -1),(\"D\", -2),(\"E-\", -3),(\"E\", -4),(\"F\", -5),(\"G-\", 6),(\"G\", 5)])\n",
    "minors = dict([(\"A-\", 1),(\"A\", 0),(\"B-\", -1),(\"B\", -2),(\"C\", -3),(\"D-\", -4),(\"D\", -5),(\"E-\", 6),(\"E\", 5),(\"F\", 4),(\"G-\", 3),(\"G\", 2)])"
   ]
  },
  {
   "cell_type": "code",
   "execution_count": 3,
   "metadata": {},
   "outputs": [],
   "source": [
    "score = music21.converter.parse(\"D:/data/folkdataset/sessiontune1.mid\")\n",
    "key = score.analyze('key')"
   ]
  },
  {
   "cell_type": "code",
   "execution_count": 7,
   "metadata": {},
   "outputs": [
    {
     "name": "stdout",
     "output_type": "stream",
     "text": [
      "d minor\n"
     ]
    }
   ],
   "source": [
    "print(key)"
   ]
  },
  {
   "cell_type": "code",
   "execution_count": 4,
   "metadata": {},
   "outputs": [],
   "source": [
    "if key.mode == \"major\":\n",
    "    halfSteps = majors[key.tonic.name]\n",
    "\n",
    "elif key.mode == \"minor\":\n",
    "    halfSteps = minors[key.tonic.name]"
   ]
  },
  {
   "cell_type": "code",
   "execution_count": 5,
   "metadata": {},
   "outputs": [],
   "source": [
    "newscore = score.transpose(halfSteps)"
   ]
  },
  {
   "cell_type": "code",
   "execution_count": 6,
   "metadata": {},
   "outputs": [
    {
     "data": {
      "text/plain": [
       "<music21.key.Key of a minor>"
      ]
     },
     "execution_count": 6,
     "metadata": {},
     "output_type": "execute_result"
    }
   ],
   "source": [
    "newscore.analyze('key')"
   ]
  },
  {
   "cell_type": "code",
   "execution_count": 8,
   "metadata": {},
   "outputs": [
    {
     "data": {
      "text/plain": [
       "'test.mid'"
      ]
     },
     "execution_count": 8,
     "metadata": {},
     "output_type": "execute_result"
    }
   ],
   "source": [
    "newscore.write(\"midi\", \"test.mid\")"
   ]
  }
 ],
 "metadata": {
  "kernelspec": {
   "display_name": "Python 3",
   "language": "python",
   "name": "python3"
  },
  "language_info": {
   "codemirror_mode": {
    "name": "ipython",
    "version": 3
   },
   "file_extension": ".py",
   "mimetype": "text/x-python",
   "name": "python",
   "nbconvert_exporter": "python",
   "pygments_lexer": "ipython3",
   "version": "3.6.0"
  }
 },
 "nbformat": 4,
 "nbformat_minor": 2
}
